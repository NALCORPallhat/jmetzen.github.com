{
 "metadata": {
  "name": ""
 },
 "nbformat": 3,
 "nbformat_minor": 0,
 "worksheets": [
  {
   "cells": [
    {
     "cell_type": "code",
     "collapsed": false,
     "input": [
      "import numpy as np\n",
      "import pandas as pd\n",
      "import matplotlib.pyplot as plt\n",
      "import seaborn"
     ],
     "language": "python",
     "metadata": {},
     "outputs": []
    },
    {
     "cell_type": "markdown",
     "metadata": {},
     "source": [
      "We will illustrate some of seaborn's plotting commands on the titanic dataset fetched from http://www.columbia.edu/~cjd11/charles_dimaggio/DIRE/resources/R/titanic.csv"
     ]
    },
    {
     "cell_type": "code",
     "collapsed": false,
     "input": [
      "data = pd.read_csv(\"http://www.columbia.edu/~cjd11/charles_dimaggio/DIRE/resources/R/titanic.csv\", index_col=0)\n",
      "# We focus on a subset of the dataset's attributes and drop the rest\n",
      "data = data.drop([\"sibsp\", \"parch\", \"ticket\", \"cabin\", \"embarked\", \"boat\", \"body\", \"home.dest\"], axis=1)\n",
      "data[:5] # Show first 5 rows"
     ],
     "language": "python",
     "metadata": {},
     "outputs": []
    },
    {
     "cell_type": "markdown",
     "metadata": {},
     "source": [
      "The attributes have the following meaning:\n",
      "\n",
      "* **pclass** stores in which class the respective passenger was booked. Can be \"1st\", \"2nd\", or \"3rd\"\n",
      "* **survived** informs us of whether the passenger survived\n",
      "* **name** is the passenger's name\n",
      "* **sex** stores the passenger's sex\n",
      "* **age** is the age of the passenger\n",
      "* **fare** stores the passenger's fare\n",
      "\n",
      "Now, let's first take a look at a summary of the numeric attributes of the dataset:"
     ]
    },
    {
     "cell_type": "code",
     "collapsed": false,
     "input": [
      "data.describe()"
     ],
     "language": "python",
     "metadata": {},
     "outputs": []
    },
    {
     "cell_type": "markdown",
     "metadata": {},
     "source": [
      "The dataset consists of 1309 entries. 38% of thise survived. We have age information about 1046 of the passengers. Their mean age is approximately 30 years, with the oldest being 80 years. The mean fare is approx. 33 pounds and the maximum fare is well above 512 pounds. Let's look at the correlations of these attributes:"
     ]
    },
    {
     "cell_type": "code",
     "collapsed": false,
     "input": [
      "seaborn.corrplot(data)"
     ],
     "language": "python",
     "metadata": {},
     "outputs": []
    },
    {
     "cell_type": "markdown",
     "metadata": {},
     "source": [
      "There is a correlation between a passenger's fare and its survival (r=0.24) as well as its age (r=0.18); note that the three stars denote a high significance level. Age and survival don't seem to be considerably correlated. But let us look at that in more detail. "
     ]
    },
    {
     "cell_type": "code",
     "collapsed": false,
     "input": [
      "seaborn.lmplot(\"age\", \"survived\", data.dropna(subset=[\"age\"]),\n",
      "               y_jitter=.05, logistic=True, ci=68, n_boot=1000)\n",
      "plt.xlim(0, 90)"
     ],
     "language": "python",
     "metadata": {},
     "outputs": []
    },
    {
     "cell_type": "markdown",
     "metadata": {},
     "source": [
      "This supports the correlation plot: older passengers seem slightly less likely to survive, but it is only weak effect. What happens if we split the data according to the passenger's sex?"
     ]
    },
    {
     "cell_type": "code",
     "collapsed": false,
     "input": [
      "seaborn.lmplot(\"age\", \"survived\", data.dropna(subset=[\"age\"]),\n",
      "               col=\"sex\", y_jitter=.05, logistic=True, ci=68, n_boot=\n",
      "               col=\"sex\", y_jitter=.05, logistic=True, ci=68, n_boot=1000)1000)\n",
      "plt.xlim(0, 90)"
     ],
     "language": "python",
     "metadata": {},
     "outputs": []
    },
    {
     "cell_type": "markdown",
     "metadata": {},
     "source": [
      "This makes a difference: female passengers have a considerable higher probability of surviving in general. Furthermore, their probability of surviving increases with age while it decreases for male passengers."
     ]
    },
    {
     "cell_type": "code",
     "collapsed": false,
     "input": [
      "seaborn.lmplot(\"age\", \"survived\", data.dropna(subset=[\"age\"]),\n",
      "               col=\"pclass\", color=\"sex\", y_jitter=.05, logistic=True, \n",
      "               ci=None)\n",
      "plt.xlim(0, 90)"
     ],
     "language": "python",
     "metadata": {},
     "outputs": []
    },
    {
     "cell_type": "code",
     "collapsed": false,
     "input": [
      "seaborn.lmplot(\"fare\", \"survived\", data.dropna(subset=[\"fare\"]),\n",
      "               color=\"sex\", y_jitter=.05, logistic=True, ci=None)\n",
      "plt.xlim(0, 1000)\n",
      "plt.xscale(\"symlog\")"
     ],
     "language": "python",
     "metadata": {},
     "outputs": []
    },
    {
     "cell_type": "code",
     "collapsed": false,
     "input": [
      "data_agefare = data[[\"age\", \"fare\"]].copy()\n",
      "data_agefare = data_agefare.dropna(how=\"any\")\n",
      "data_agefare.fare = np.log10(data_agefare.fare)\n",
      "data_agefare = data_agefare[np.isfinite(data_agefare.fare)]\n",
      "seaborn.regplot(data_agefare.age, data_agefare.fare)"
     ],
     "language": "python",
     "metadata": {},
     "outputs": []
    },
    {
     "cell_type": "code",
     "collapsed": false,
     "input": [
      "data_agesurvived = data[[\"age\", \"survived\"]].copy()\n",
      "data_agesurvived = data_agesurvived.dropna(how=\"any\")\n",
      "seaborn.violinplot(data_agesurvived.age, data_agesurvived.survived, inner=\"box\")"
     ],
     "language": "python",
     "metadata": {},
     "outputs": []
    },
    {
     "cell_type": "code",
     "collapsed": false,
     "input": [
      "# Would be nice to have better support for NA values"
     ],
     "language": "python",
     "metadata": {},
     "outputs": []
    }
   ],
   "metadata": {}
  }
 ]
}